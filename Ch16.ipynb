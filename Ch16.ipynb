{
 "cells": [
  {
   "cell_type": "markdown",
   "id": "aacc5d89-11c6-449d-8cba-a7608fb99524",
   "metadata": {},
   "source": [
    "### Chapter 16"
   ]
  },
  {
   "cell_type": "code",
   "execution_count": null,
   "id": "021911f1-1569-4941-a3c6-52946bfa5f92",
   "metadata": {},
   "outputs": [],
   "source": []
  }
 ],
 "metadata": {
  "kernelspec": {
   "display_name": "Python 3 (ipykernel)",
   "language": "python",
   "name": "python3"
  },
  "language_info": {
   "codemirror_mode": {
    "name": "ipython",
    "version": 3
   },
   "file_extension": ".py",
   "mimetype": "text/x-python",
   "name": "python",
   "nbconvert_exporter": "python",
   "pygments_lexer": "ipython3",
   "version": "3.12.5"
  }
 },
 "nbformat": 4,
 "nbformat_minor": 5
}
